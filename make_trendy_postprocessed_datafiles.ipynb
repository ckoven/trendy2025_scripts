{
 "cells": [
  {
   "cell_type": "code",
   "execution_count": 1,
   "id": "6daac0f8-71d7-4bb9-a025-2fe22293c579",
   "metadata": {},
   "outputs": [],
   "source": [
    "import xarray as xr\n",
    "import matplotlib.pyplot as plt\n",
    "import numpy as np\n",
    "import datetime"
   ]
  },
  {
   "cell_type": "code",
   "execution_count": 2,
   "id": "2c69efe8-8c8d-41d2-afc6-c581d5b40ef7",
   "metadata": {},
   "outputs": [],
   "source": [
    "import fates_xarray_funcs\n",
    "from fates_xarray_funcs import monthly_to_annual"
   ]
  },
  {
   "cell_type": "code",
   "execution_count": 3,
   "id": "53b4e5cf-a373-43a6-ba6e-4e939d9f9107",
   "metadata": {},
   "outputs": [],
   "source": [
    "cases_in = {'S0':'f19_0007_trendyS0_39e91e09b5_c2da27fd',\n",
    "         'S1':'f19_0008_trendyS1_39e91e09b5_c2da27fd',\n",
    "         'S2':'f19_0010_trendyS2_hybrid_39e91e09b5_c2da27fd',\n",
    "         'S3':'f19_0009_trendyS3_parta_39e91e09b5_c2da27fd',\n",
    "         'S3b':'f19_0011_trendyS3_partb_hybrid_39e91e09b5_c2da27fd'}\n",
    "\n",
    "cases_out = ['S0','S1','S2','S3']\n",
    "\n",
    "start_year = {'S0':1701,\n",
    "         'S1':1701,\n",
    "         'S2':1901,\n",
    "         'S3':1701,\n",
    "         'S3b':1901}\n",
    "\n",
    "base_data_dir = '/global/homes/c/cdkoven/cdkoven_m2467/trendy_2025_tseries_files/'\n",
    "\n",
    "minlat = -60."
   ]
  },
  {
   "cell_type": "code",
   "execution_count": 4,
   "id": "75f31505-f45c-4c70-b644-d381c96648f3",
   "metadata": {},
   "outputs": [],
   "source": [
    "output_vars_list = ['tas', 'pr', 'rsds', 'mrso', 'mrro', 'evapotrans', 'evapo', 'cVeg', 'cLitter', 'cSoil', 'cProduct', \n",
    "                    'gpp', 'ra', 'npp', 'rh', 'fFire', 'fLuc', 'soilr', 'nbp', \n",
    "                    'landCoverFrac', 'oceanCoverFrac', 'burntArea', 'lai', \n",
    "                    'cLeaf', 'cWood', 'cRoot', 'cCwd', 'cSoilpools', 'fVegLitter', 'fLeafLitter', 'fWoodLitter', \n",
    "                    'fRootLitter', 'fLitterSoil', 'fVegSoil', 'rhpool', 'fAllocLeaf', 'fAllocWood', 'fAllocRoot', \n",
    "                    'fFireCveg', 'fFireLitter', 'fFireCsoil', 'tsl', 'msl', 'evspsblveg', 'evspsblsoi', 'tran', \n",
    "                    'fGrazing']\n",
    "\n",
    "output_pft_vars_list = ['evapotranspft', 'transpft', 'albedopft', 'snow_depthpft', 'shflxpft', 'rnpft',  'cVegpft', 'cSoilpft',\n",
    "                        'gpppft', 'npppft', 'rhpft', 'nbppft', 'laipft',   'tskinpft', 'mslpft', 'theightpft']\n",
    "\n",
    "input_vars_list = ['FATES_GPP','TSA','RAIN','SNOW','NBP','area','FATES_FRACTION','FATES_NPP','FATES_AUTORESP','HR','FATES_SEEDS_IN_EXTERN_EL']\n",
    "\n"
   ]
  },
  {
   "cell_type": "code",
   "execution_count": 5,
   "id": "452adb21-e79e-464e-b9c9-7d936b536f20",
   "metadata": {},
   "outputs": [],
   "source": [
    "unitslist = ['K','kg m-2 s-1','W m-2','kg m-2','fraction','m m-2','m']\n",
    "\n",
    "units_conversions = {'gC/m^2/s':['kg m-2 s-1', 1e-3],\n",
    "                     'mm/s':['kg m-2 s-1', 9999],\n",
    "}\n"
   ]
  },
  {
   "cell_type": "code",
   "execution_count": 6,
   "id": "aaee8d10-9517-4e88-bd5e-b3e3354300d8",
   "metadata": {},
   "outputs": [],
   "source": [
    "def gettime():\n",
    "    return datetime.datetime.now().strftime(\"%Y-%m-%d_%H.%M.%S.%f\")\n",
    "\n",
    "def inherit_attrs(parents):\n",
    "    attrs = parents[0].attrs\n",
    "    for parent in parents[1:]:\n",
    "        attrs.update({key: value for (key, value) in parent.attrs.items() if 'history_' in key})\n",
    "    return attrs\n",
    "        \n",
    "class datadict(dict):\n",
    "    def getdata(self, varname, cases_in=cases_in, cases_out=cases_out, start_year=start_year, base_data_dir=base_data_dir):\n",
    "        fins = {}\n",
    "        dataarrays_out = {}\n",
    "        for case_in in cases_in:\n",
    "            fins[case_in] = xr.open_dataset(base_data_dir+cases_in[case_in]+'/'+cases_in[case_in]+'.tseries.'+varname+'.nc')\n",
    "        for case_out in cases_out:\n",
    "            if case_out in ['S0','S1'] or 'time' not in fins[case_out][varname].dims:\n",
    "                dataset_out = fins[case_out]\n",
    "            elif case_out == 'S2':\n",
    "                s2a = fins['S1'].isel(time=slice(0,200*12))\n",
    "                s2b = fins['S2']\n",
    "                dataset_out = xr.concat((s2a,s2b), dim='time')\n",
    "            elif case_out == 'S3':\n",
    "                s3a = fins['S3'].isel(time=slice(0,200*12))\n",
    "                s3b = fins['S3b']\n",
    "                dataset_out = xr.concat((s3a,s3b), dim='time')\n",
    "            dataset_out['time'] = np.arange(len(dataset_out['time']))/12.+1701.\n",
    "            dataset_out = dataset_out.sel(lat=slice(minlat,90.))\n",
    "            if \"fates_levelem\" in dataset_out.dims:\n",
    "                dataset_out = dataset_out.isel(fates_levelem=0).squeeze()\n",
    "            dataarrays_out.update({case_out:dataset_out[varname]})\n",
    "        self.update({varname:dataarrays_out})\n",
    "\n",
    "    def fates_frac_scale(self, varname):\n",
    "        dataarrays_out = {}\n",
    "        if varname[0:6] == 'FATES_':\n",
    "            newvarname = varname[6:]\n",
    "        else:\n",
    "            raise Exception\n",
    "        for case in self[varname]:\n",
    "            scaledvar = self[varname][case] * self['FATES_FRACTION'][case]\n",
    "            scaledvar.attrs = inherit_attrs((self[varname][case],))\n",
    "            scaledvar = scaledvar.rename(newvarname)\n",
    "            scaledvar.attrs['history_'+gettime()] = newvarname + ' = ' + varname + ' * FATES_FRACTION'\n",
    "            dataarrays_out[case] = scaledvar\n",
    "        self.update({newvarname:dataarrays_out})\n",
    "\n",
    "    def writedata(self, varname, output_data_dir=base_data_dir+'/postprocessed/'):\n",
    "        for case_out in self[varname]:\n",
    "            #try:\n",
    "            self[varname][case_out].to_netcdf(output_data_dir+'ELM-FATES_'+case_out+'_'+varname+'.nc', format=\"NETCDF4_CLASSIC\", engine='netcdf4', encoding={varname:{\"zlib\": True,\"complevel\":1}})\n",
    "            #except:\n",
    "                #self[varname][case_out].to_netcdf(output_data_dir+'ELM-FATES_'+case_out+'_'+varname+'.nc', format=\"NETCDF4_CLASSIC\", engine='netcdf4')\n",
    "\n",
    "    def rename(self, oldvarname, newvarname):\n",
    "        self[newvarname] = {}\n",
    "        for case in self[oldvarname]:\n",
    "            self[newvarname][case] = self[oldvarname][case].rename(newvarname)\n",
    "            self[newvarname][case].attrs['history_'+gettime()] = newvarname + ' = ' + oldvarname\n",
    "\n",
    "    def addvars(self, var1name, var2name, newvarname):\n",
    "        self[newvarname] = {}\n",
    "        for case in self[var1name]:\n",
    "            if self[var1name][case].attrs['units'] != self[var2name][case].attrs['units']:\n",
    "                print(\"units need to match for vars \"+var1name + \" and \"+var2name)\n",
    "                print(self[var1name][case].attrs['units'])\n",
    "                print(self[var2name][case].attrs['units'])\n",
    "                raise Exception\n",
    "            newvar = self[var1name][case] + self[var2name][case]\n",
    "            newvar.attrs = inherit_attrs((self[var1name][case], self[var2name][case]))\n",
    "            newvar = newvar.rename(newvarname)\n",
    "            newvar.attrs['long_name'] = newvarname\n",
    "            newvar.attrs['history_'+gettime()] = newvarname + ' = ' + var1name + ' + ' + var2name\n",
    "            self[newvarname][case]  = newvar\n",
    "\n",
    "    def check_units(self):\n",
    "        for var in self:\n",
    "            for case in self[var]:\n",
    "                if self[var][case].attrs['units'] not in unitslist:\n",
    "                    print(var,case,self[var][case].attrs['units'])\n",
    "\n",
    "    def fix_units(self, varname):\n",
    "        for case in self[varname]:\n",
    "            if self[varname][case].attrs['units'] in unitslist:\n",
    "                print('no need to convert units for variable '+varname + 'with units: ' + self[varname][case].attrs['units'])\n",
    "            else:\n",
    "                if self[varname][case].attrs['units'] in units_conversions:\n",
    "                    newunits, scale = units_conversions[self[varname][case].attrs['units']]\n",
    "                    oldunits = self[varname][case].attrs['units']\n",
    "                    self[varname][case] = self[varname][case] * scale\n",
    "                    self[varname][case].attrs['units'] = newunits\n",
    "                    self[varname][case].attrs['history_'+gettime()] = 'unit conversion on '+varname+' of '+str(scale)+' from: '+ oldunits + ' to: ' + newunits\n",
    "                else:\n",
    "                    print('units not in conversion list: '+self[varname][case].attrs['units'])\n",
    "                    raise Exception\n",
    "\n",
    "    \n"
   ]
  },
  {
   "cell_type": "code",
   "execution_count": 7,
   "id": "a5f417a1-c496-49de-b08c-de8cdbc1d1ef",
   "metadata": {},
   "outputs": [],
   "source": [
    "varblock = datadict()"
   ]
  },
  {
   "cell_type": "code",
   "execution_count": 8,
   "id": "18054ca4-ec43-4e27-9f13-1f1333d6a072",
   "metadata": {},
   "outputs": [],
   "source": [
    "for var in input_vars_list:\n",
    "    varblock.getdata(var)\n"
   ]
  },
  {
   "cell_type": "code",
   "execution_count": 9,
   "id": "d368b748-b98b-47bf-ad93-6329cb506b04",
   "metadata": {},
   "outputs": [
    {
     "name": "stdout",
     "output_type": "stream",
     "text": [
      "RAIN S0 mm/s\n",
      "RAIN S1 mm/s\n",
      "RAIN S2 mm/s\n",
      "RAIN S3 mm/s\n",
      "SNOW S0 mm/s\n",
      "SNOW S1 mm/s\n",
      "SNOW S2 mm/s\n",
      "SNOW S3 mm/s\n",
      "NBP S0 gC/m^2/s\n",
      "NBP S1 gC/m^2/s\n",
      "NBP S2 gC/m^2/s\n",
      "NBP S3 gC/m^2/s\n",
      "area S0 km^2\n",
      "area S1 km^2\n",
      "area S2 km^2\n",
      "area S3 km^2\n",
      "FATES_FRACTION S0 m2 m-2\n",
      "FATES_FRACTION S1 m2 m-2\n",
      "FATES_FRACTION S2 m2 m-2\n",
      "FATES_FRACTION S3 m2 m-2\n",
      "HR S0 gC/m^2/s\n",
      "HR S1 gC/m^2/s\n",
      "HR S2 gC/m^2/s\n",
      "HR S3 gC/m^2/s\n"
     ]
    }
   ],
   "source": [
    "varblock.check_units()"
   ]
  },
  {
   "cell_type": "code",
   "execution_count": 10,
   "id": "b3e2db7c-e1c0-41ab-97ee-9f8583a2ed0c",
   "metadata": {},
   "outputs": [],
   "source": [
    "varblock.fates_frac_scale('FATES_SEEDS_IN_EXTERN_EL')\n",
    "varblock.fix_units('NBP')\n",
    "varblock.addvars('NBP','SEEDS_IN_EXTERN_EL','nbp')\n",
    "varblock.writedata('nbp')"
   ]
  },
  {
   "cell_type": "code",
   "execution_count": 11,
   "id": "a2cc05c2-0946-48a1-bd0d-d74947198c5a",
   "metadata": {},
   "outputs": [],
   "source": [
    "varblock.addvars('RAIN','SNOW','pr')\n",
    "varblock.writedata('pr')"
   ]
  },
  {
   "cell_type": "code",
   "execution_count": 12,
   "id": "6044207c-0718-4355-ae68-799a6d29def3",
   "metadata": {},
   "outputs": [],
   "source": [
    "varblock.fates_frac_scale('FATES_GPP')\n",
    "varblock.addvars('GPP','SEEDS_IN_EXTERN_EL','gpp')\n",
    "varblock.writedata('gpp')"
   ]
  },
  {
   "cell_type": "code",
   "execution_count": 13,
   "id": "6d300fb8-682c-46c7-9bd6-9e91b67c019e",
   "metadata": {},
   "outputs": [],
   "source": [
    "varblock.rename('TSA', 'tas')\n",
    "varblock.writedata('tas')"
   ]
  },
  {
   "cell_type": "code",
   "execution_count": 14,
   "id": "94c9b2e5-6f77-4be7-81ae-7881998df096",
   "metadata": {},
   "outputs": [],
   "source": [
    "varblock.fates_frac_scale('FATES_NPP')\n",
    "varblock.addvars('NPP','SEEDS_IN_EXTERN_EL','npp')\n",
    "varblock.writedata('npp')"
   ]
  },
  {
   "cell_type": "code",
   "execution_count": null,
   "id": "809e057e-60f1-4a72-aa22-c2a6748dd5dc",
   "metadata": {},
   "outputs": [],
   "source": []
  }
 ],
 "metadata": {
  "kernelspec": {
   "display_name": "jupyter_xarray_xesmf",
   "language": "python",
   "name": "jupyter_xarray_xesmf"
  },
  "language_info": {
   "codemirror_mode": {
    "name": "ipython",
    "version": 3
   },
   "file_extension": ".py",
   "mimetype": "text/x-python",
   "name": "python",
   "nbconvert_exporter": "python",
   "pygments_lexer": "ipython3",
   "version": "3.7.9"
  }
 },
 "nbformat": 4,
 "nbformat_minor": 5
}
